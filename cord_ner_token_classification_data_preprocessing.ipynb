{
 "cells": [
  {
   "cell_type": "markdown",
   "metadata": {},
   "source": [
    "## Data Prep for NER Task\n",
    "\n",
    "The dataset was downloaded from Kaggle at:\n",
    "\n",
    "<a href=\"https://www.kaggle.com/datasets/sushilkumarinfo/covid-ner-data-set\">Covid NER Data Set</a>\n",
    "\n",
    "### Corpus file\n",
    "\n",
    "This file contains the Spacy-tokenized (words) sentences by document."
   ]
  },
  {
   "cell_type": "code",
   "execution_count": 14,
   "metadata": {},
   "outputs": [],
   "source": [
    "import json\n",
    "import pandas as pd \n",
    "\n",
    "\n",
    "corpus = []\n",
    "with open('./data/CORD-NER-corpus.json') as f:\n",
    "    for line in f:\n",
    "        doc = json.loads(line)\n",
    "        doc_id = doc['doc_id']\n",
    "        sents = doc['sents']\n",
    "        for sent in sents:\n",
    "            sent_id = sent['sent_id']\n",
    "            sent_tokens = sent['sent_tokens']\n",
    "            corpus.append([doc_id, sent_id, sent_tokens])\n",
    "\n",
    "corpus_df = pd.DataFrame(corpus, columns = ['doc_id', 'sent_id', 'sent_tokens'])"
   ]
  },
  {
   "cell_type": "markdown",
   "metadata": {},
   "source": [
    "### Entities file\n",
    "We read file with entities and store in a dictionary "
   ]
  },
  {
   "cell_type": "code",
   "execution_count": 16,
   "metadata": {},
   "outputs": [],
   "source": [
    "ner = {}\n",
    "with open('./data/CORD-NER-ner.json') as f:\n",
    "    for line in f:\n",
    "        doc = json.loads(line)\n",
    "        doc_id = doc['doc_id']\n",
    "        sents = doc['sents']\n",
    "        sents_dict= {}\n",
    "        for sent in sents:\n",
    "            sent_id = sent['sent_id']\n",
    "            entities = sent['entities']\n",
    "            sents_dict[sent_id] = entities\n",
    "        ner[doc_id] = sents_dict"
   ]
  },
  {
   "cell_type": "markdown",
   "metadata": {},
   "source": [
    "### IOB Annotations\n"
   ]
  },
  {
   "cell_type": "code",
   "execution_count": 24,
   "metadata": {},
   "outputs": [],
   "source": [
    "def iob_annotation(doc_id, sent_id, num_tokens, ner):\n",
    "    labels = num_tokens*['O']\n",
    "    entities = ner[doc_id][sent_id]\n",
    "    for ent in entities:\n",
    "        start = ent['start']\n",
    "        end = ent['end']\n",
    "        ent_type = ent['type']\n",
    "        labels[start] = 'B-' + ent_type\n",
    "        for i in range(start+1, end):\n",
    "            labels[i] = 'I-' + ent_type\n",
    "    return labels"
   ]
  },
  {
   "cell_type": "code",
   "execution_count": 25,
   "metadata": {},
   "outputs": [
    {
     "data": {
      "text/html": [
       "<div>\n",
       "<style scoped>\n",
       "    .dataframe tbody tr th:only-of-type {\n",
       "        vertical-align: middle;\n",
       "    }\n",
       "\n",
       "    .dataframe tbody tr th {\n",
       "        vertical-align: top;\n",
       "    }\n",
       "\n",
       "    .dataframe thead th {\n",
       "        text-align: right;\n",
       "    }\n",
       "</style>\n",
       "<table border=\"1\" class=\"dataframe\">\n",
       "  <thead>\n",
       "    <tr style=\"text-align: right;\">\n",
       "      <th></th>\n",
       "      <th>doc_id</th>\n",
       "      <th>sent_id</th>\n",
       "      <th>sent_tokens</th>\n",
       "      <th>labels</th>\n",
       "    </tr>\n",
       "  </thead>\n",
       "  <tbody>\n",
       "    <tr>\n",
       "      <th>0</th>\n",
       "      <td>0</td>\n",
       "      <td>0</td>\n",
       "      <td>[angiotensin_converting_enzyme, 2, (, ace2, ),...</td>\n",
       "      <td>[B-GENE_OR_GENOME, I-GENE_OR_GENOME, O, B-GENE...</td>\n",
       "    </tr>\n",
       "    <tr>\n",
       "      <th>1</th>\n",
       "      <td>0</td>\n",
       "      <td>1</td>\n",
       "      <td>[a, phylogenetic, analysis, 3, ,, 4, found, a,...</td>\n",
       "      <td>[O, B-EVOLUTION, O, O, O, O, O, O, B-WILDLIFE,...</td>\n",
       "    </tr>\n",
       "    <tr>\n",
       "      <th>2</th>\n",
       "      <td>0</td>\n",
       "      <td>2</td>\n",
       "      <td>[there, is, a, diversity, of, possible, interm...</td>\n",
       "      <td>[O, O, O, O, O, O, B-NORP, O, B-CORONAVIRUS, O...</td>\n",
       "    </tr>\n",
       "    <tr>\n",
       "      <th>3</th>\n",
       "      <td>0</td>\n",
       "      <td>3</td>\n",
       "      <td>[there, are, many, similarities, of, sars_cov_...</td>\n",
       "      <td>[O, O, O, O, O, B-CORONAVIRUS, O, O, O, B-CORO...</td>\n",
       "    </tr>\n",
       "    <tr>\n",
       "      <th>4</th>\n",
       "      <td>0</td>\n",
       "      <td>4</td>\n",
       "      <td>[using, computer, modeling, ,, xu, et, al, .]</td>\n",
       "      <td>[O, O, O, O, B-PERSON, I-PERSON, I-PERSON, O]</td>\n",
       "    </tr>\n",
       "  </tbody>\n",
       "</table>\n",
       "</div>"
      ],
      "text/plain": [
       "   doc_id  sent_id                                        sent_tokens  \\\n",
       "0       0        0  [angiotensin_converting_enzyme, 2, (, ace2, ),...   \n",
       "1       0        1  [a, phylogenetic, analysis, 3, ,, 4, found, a,...   \n",
       "2       0        2  [there, is, a, diversity, of, possible, interm...   \n",
       "3       0        3  [there, are, many, similarities, of, sars_cov_...   \n",
       "4       0        4      [using, computer, modeling, ,, xu, et, al, .]   \n",
       "\n",
       "                                              labels  \n",
       "0  [B-GENE_OR_GENOME, I-GENE_OR_GENOME, O, B-GENE...  \n",
       "1  [O, B-EVOLUTION, O, O, O, O, O, O, B-WILDLIFE,...  \n",
       "2  [O, O, O, O, O, O, B-NORP, O, B-CORONAVIRUS, O...  \n",
       "3  [O, O, O, O, O, B-CORONAVIRUS, O, O, O, B-CORO...  \n",
       "4      [O, O, O, O, B-PERSON, I-PERSON, I-PERSON, O]  "
      ]
     },
     "execution_count": 25,
     "metadata": {},
     "output_type": "execute_result"
    }
   ],
   "source": [
    "corpus_df['labels'] = corpus_df.apply(lambda x: iob_annotation(x.doc_id, x.sent_id, len(x.sent_tokens), ner), axis=1)\n",
    "corpus_df.head(5)"
   ]
  },
  {
   "cell_type": "code",
   "execution_count": 27,
   "metadata": {},
   "outputs": [
    {
     "data": {
      "text/plain": [
       "3210155"
      ]
     },
     "execution_count": 27,
     "metadata": {},
     "output_type": "execute_result"
    }
   ],
   "source": [
    "len(corpus_df)"
   ]
  },
  {
   "cell_type": "code",
   "execution_count": 26,
   "metadata": {},
   "outputs": [],
   "source": [
    "corpus_df.to_pickle('./data/corpus_ner.pkl')"
   ]
  },
  {
   "cell_type": "markdown",
   "metadata": {},
   "source": [
    "## WorldPiece Tokenization"
   ]
  },
  {
   "cell_type": "code",
   "execution_count": 12,
   "metadata": {},
   "outputs": [],
   "source": [
    "import pandas as pd\n",
    "data = pd.read_pickle('./data/corpus_ner.pkl')"
   ]
  },
  {
   "cell_type": "code",
   "execution_count": 13,
   "metadata": {},
   "outputs": [
    {
     "data": {
      "text/plain": [
       "{'O': 0,\n",
       " 'B-CARDINAL': 1,\n",
       " 'I-CARDINAL': 2,\n",
       " 'B-ORGANISM': 3,\n",
       " 'I-ORGANISM': 4,\n",
       " 'B-CELL': 5,\n",
       " 'I-CELL': 6,\n",
       " 'B-BACTERIUM': 7,\n",
       " 'I-BACTERIUM': 8,\n",
       " 'B-LABORATORY_OR_TEST_RESULT': 9,\n",
       " 'I-LABORATORY_OR_TEST_RESULT': 10,\n",
       " 'B-CELL_COMPONENT': 11,\n",
       " 'I-CELL_COMPONENT': 12,\n",
       " 'B-PERSON': 13,\n",
       " 'I-PERSON': 14,\n",
       " 'B-MACHINE_ACTIVITY': 15,\n",
       " 'I-MACHINE_ACTIVITY': 16,\n",
       " 'B-SIGN_OR_SYMPTOM': 17,\n",
       " 'I-SIGN_OR_SYMPTOM': 18,\n",
       " 'B-BODY_SUBSTANCE': 19,\n",
       " 'I-BODY_SUBSTANCE': 20,\n",
       " 'B-TIME': 21,\n",
       " 'I-TIME': 22,\n",
       " 'B-SUBSTRATE': 23,\n",
       " 'I-SUBSTRATE': 24,\n",
       " 'B-CELL_FUNCTION': 25,\n",
       " 'I-CELL_FUNCTION': 26,\n",
       " 'B-ORDINAL': 27,\n",
       " 'I-ORDINAL': 28,\n",
       " 'B-HUMAN-CAUSED_PHENOMENON_OR_PROCESS': 29,\n",
       " 'I-HUMAN-CAUSED_PHENOMENON_OR_PROCESS': 30,\n",
       " 'B-EVOLUTION': 31,\n",
       " 'I-EVOLUTION': 32,\n",
       " 'B-IMMUNE_RESPONSE': 33,\n",
       " 'I-IMMUNE_RESPONSE': 34,\n",
       " 'B-EDUCATIONAL_ACTIVITY': 35,\n",
       " 'I-EDUCATIONAL_ACTIVITY': 36,\n",
       " 'B-FOOD': 37,\n",
       " 'I-FOOD': 38,\n",
       " 'B-LANGUAGE': 39,\n",
       " 'I-LANGUAGE': 40,\n",
       " 'B-GPE': 41,\n",
       " 'I-GPE': 42,\n",
       " 'B-BODY_PART_ORGAN_OR_ORGAN_COMPONENT': 43,\n",
       " 'I-BODY_PART_ORGAN_OR_ORGAN_COMPONENT': 44,\n",
       " 'B-SOCIAL_BEHAVIOR': 45,\n",
       " 'I-SOCIAL_BEHAVIOR': 46,\n",
       " 'B-EVENT': 47,\n",
       " 'I-EVENT': 48,\n",
       " 'B-TISSUE': 49,\n",
       " 'I-TISSUE': 50,\n",
       " 'B-FAC': 51,\n",
       " 'I-FAC': 52,\n",
       " 'B-MONEY': 53,\n",
       " 'I-MONEY': 54,\n",
       " 'B-MATERIAL': 55,\n",
       " 'I-MATERIAL': 56,\n",
       " 'B-DAILY_OR_RECREATIONAL_ACTIVITY': 57,\n",
       " 'I-DAILY_OR_RECREATIONAL_ACTIVITY': 58,\n",
       " 'B-ORGAN_OR_TISSUE_FUNCTION': 59,\n",
       " 'I-ORGAN_OR_TISSUE_FUNCTION': 60,\n",
       " 'B-GENE_OR_GENOME': 61,\n",
       " 'I-GENE_OR_GENOME': 62,\n",
       " 'B-DIAGNOSTIC_PROCEDURE': 63,\n",
       " 'I-DIAGNOSTIC_PROCEDURE': 64,\n",
       " 'B-THERAPEUTIC_OR_PREVENTIVE_PROCEDURE': 65,\n",
       " 'I-THERAPEUTIC_OR_PREVENTIVE_PROCEDURE': 66,\n",
       " 'B-VIRAL_PROTEIN': 67,\n",
       " 'I-VIRAL_PROTEIN': 68,\n",
       " 'B-INJURY_OR_POISONING': 69,\n",
       " 'I-INJURY_OR_POISONING': 70,\n",
       " 'B-GROUP': 71,\n",
       " 'I-GROUP': 72,\n",
       " 'B-LIVESTOCK': 73,\n",
       " 'I-LIVESTOCK': 74,\n",
       " 'B-DATE': 75,\n",
       " 'I-DATE': 76,\n",
       " 'B-ARCHAEON': 77,\n",
       " 'I-ARCHAEON': 78,\n",
       " 'B-RESEARCH_ACTIVITY': 79,\n",
       " 'I-RESEARCH_ACTIVITY': 80,\n",
       " 'B-INDIVIDUAL_BEHAVIOR': 81,\n",
       " 'I-INDIVIDUAL_BEHAVIOR': 82,\n",
       " 'B-PHYSICAL_SCIENCE': 83,\n",
       " 'I-PHYSICAL_SCIENCE': 84,\n",
       " 'B-LOC': 85,\n",
       " 'I-LOC': 86,\n",
       " 'B-GOVERNMENTAL_OR_REGULATORY_ACTIVITY': 87,\n",
       " 'I-GOVERNMENTAL_OR_REGULATORY_ACTIVITY': 88,\n",
       " 'B-EUKARYOTE': 89,\n",
       " 'I-EUKARYOTE': 90,\n",
       " 'B-CORONAVIRUS': 91,\n",
       " 'I-CORONAVIRUS': 92,\n",
       " 'B-WILDLIFE': 93,\n",
       " 'I-WILDLIFE': 94,\n",
       " 'B-EXPERIMENTAL_MODEL_OF_DISEASE': 95,\n",
       " 'I-EXPERIMENTAL_MODEL_OF_DISEASE': 96,\n",
       " 'B-NORP': 97,\n",
       " 'I-NORP': 98,\n",
       " 'B-QUANTITY': 99,\n",
       " 'I-QUANTITY': 100,\n",
       " 'B-LAW': 101,\n",
       " 'I-LAW': 102,\n",
       " 'B-CELL_OR_MOLECULAR_DYSFUNCTION': 103,\n",
       " 'I-CELL_OR_MOLECULAR_DYSFUNCTION': 104,\n",
       " 'B-PERCENT': 105,\n",
       " 'I-PERCENT': 106,\n",
       " 'B-ANATOMICAL_STRUCTURE': 107,\n",
       " 'I-ANATOMICAL_STRUCTURE': 108,\n",
       " 'B-VIRUS': 109,\n",
       " 'I-VIRUS': 110,\n",
       " 'B-WORK_OF_ART': 111,\n",
       " 'I-WORK_OF_ART': 112,\n",
       " 'B-LABORATORY_PROCEDURE': 113,\n",
       " 'I-LABORATORY_PROCEDURE': 114,\n",
       " 'B-GROUP_ATTRIBUTE': 115,\n",
       " 'I-GROUP_ATTRIBUTE': 116,\n",
       " 'B-DISEASE_OR_SYNDROME': 117,\n",
       " 'I-DISEASE_OR_SYNDROME': 118,\n",
       " 'B-MOLECULAR_FUNCTION': 119,\n",
       " 'I-MOLECULAR_FUNCTION': 120,\n",
       " 'B-ORG': 121,\n",
       " 'I-ORG': 122,\n",
       " 'B-PRODUCT': 123,\n",
       " 'I-PRODUCT': 124,\n",
       " 'B-CHEMICAL': 125,\n",
       " 'I-CHEMICAL': 126}"
      ]
     },
     "execution_count": 13,
     "metadata": {},
     "output_type": "execute_result"
    }
   ],
   "source": [
    "label_set = set()\n",
    "for labs in data['labels']:\n",
    "    label_set.update(labs)\n",
    "labels = list(label_set)\n",
    "labels.sort(reverse=True)\n",
    "label_set = set([lab[2:] for lab in labels[1:]])\n",
    "labels = ['O']\n",
    "for lab in label_set:\n",
    "    labels.extend(['B-'+lab,'I-'+lab])\n",
    "label_dict = {k:v for v, k in enumerate(labels)}\n",
    "label_dict "
   ]
  },
  {
   "cell_type": "code",
   "execution_count": 14,
   "metadata": {},
   "outputs": [
    {
     "data": {
      "text/plain": [
       "['O',\n",
       " 'B-CARDINAL',\n",
       " 'I-CARDINAL',\n",
       " 'B-ORGANISM',\n",
       " 'I-ORGANISM',\n",
       " 'B-CELL',\n",
       " 'I-CELL',\n",
       " 'B-BACTERIUM',\n",
       " 'I-BACTERIUM',\n",
       " 'B-LABORATORY_OR_TEST_RESULT',\n",
       " 'I-LABORATORY_OR_TEST_RESULT',\n",
       " 'B-CELL_COMPONENT',\n",
       " 'I-CELL_COMPONENT',\n",
       " 'B-PERSON',\n",
       " 'I-PERSON',\n",
       " 'B-MACHINE_ACTIVITY',\n",
       " 'I-MACHINE_ACTIVITY',\n",
       " 'B-SIGN_OR_SYMPTOM',\n",
       " 'I-SIGN_OR_SYMPTOM',\n",
       " 'B-BODY_SUBSTANCE',\n",
       " 'I-BODY_SUBSTANCE',\n",
       " 'B-TIME',\n",
       " 'I-TIME',\n",
       " 'B-SUBSTRATE',\n",
       " 'I-SUBSTRATE',\n",
       " 'B-CELL_FUNCTION',\n",
       " 'I-CELL_FUNCTION',\n",
       " 'B-ORDINAL',\n",
       " 'I-ORDINAL',\n",
       " 'B-HUMAN-CAUSED_PHENOMENON_OR_PROCESS',\n",
       " 'I-HUMAN-CAUSED_PHENOMENON_OR_PROCESS',\n",
       " 'B-EVOLUTION',\n",
       " 'I-EVOLUTION',\n",
       " 'B-IMMUNE_RESPONSE',\n",
       " 'I-IMMUNE_RESPONSE',\n",
       " 'B-EDUCATIONAL_ACTIVITY',\n",
       " 'I-EDUCATIONAL_ACTIVITY',\n",
       " 'B-FOOD',\n",
       " 'I-FOOD',\n",
       " 'B-LANGUAGE',\n",
       " 'I-LANGUAGE',\n",
       " 'B-GPE',\n",
       " 'I-GPE',\n",
       " 'B-BODY_PART_ORGAN_OR_ORGAN_COMPONENT',\n",
       " 'I-BODY_PART_ORGAN_OR_ORGAN_COMPONENT',\n",
       " 'B-SOCIAL_BEHAVIOR',\n",
       " 'I-SOCIAL_BEHAVIOR',\n",
       " 'B-EVENT',\n",
       " 'I-EVENT',\n",
       " 'B-TISSUE',\n",
       " 'I-TISSUE',\n",
       " 'B-FAC',\n",
       " 'I-FAC',\n",
       " 'B-MONEY',\n",
       " 'I-MONEY',\n",
       " 'B-MATERIAL',\n",
       " 'I-MATERIAL',\n",
       " 'B-DAILY_OR_RECREATIONAL_ACTIVITY',\n",
       " 'I-DAILY_OR_RECREATIONAL_ACTIVITY',\n",
       " 'B-ORGAN_OR_TISSUE_FUNCTION',\n",
       " 'I-ORGAN_OR_TISSUE_FUNCTION',\n",
       " 'B-GENE_OR_GENOME',\n",
       " 'I-GENE_OR_GENOME',\n",
       " 'B-DIAGNOSTIC_PROCEDURE',\n",
       " 'I-DIAGNOSTIC_PROCEDURE',\n",
       " 'B-THERAPEUTIC_OR_PREVENTIVE_PROCEDURE',\n",
       " 'I-THERAPEUTIC_OR_PREVENTIVE_PROCEDURE',\n",
       " 'B-VIRAL_PROTEIN',\n",
       " 'I-VIRAL_PROTEIN',\n",
       " 'B-INJURY_OR_POISONING',\n",
       " 'I-INJURY_OR_POISONING',\n",
       " 'B-GROUP',\n",
       " 'I-GROUP',\n",
       " 'B-LIVESTOCK',\n",
       " 'I-LIVESTOCK',\n",
       " 'B-DATE',\n",
       " 'I-DATE',\n",
       " 'B-ARCHAEON',\n",
       " 'I-ARCHAEON',\n",
       " 'B-RESEARCH_ACTIVITY',\n",
       " 'I-RESEARCH_ACTIVITY',\n",
       " 'B-INDIVIDUAL_BEHAVIOR',\n",
       " 'I-INDIVIDUAL_BEHAVIOR',\n",
       " 'B-PHYSICAL_SCIENCE',\n",
       " 'I-PHYSICAL_SCIENCE',\n",
       " 'B-LOC',\n",
       " 'I-LOC',\n",
       " 'B-GOVERNMENTAL_OR_REGULATORY_ACTIVITY',\n",
       " 'I-GOVERNMENTAL_OR_REGULATORY_ACTIVITY',\n",
       " 'B-EUKARYOTE',\n",
       " 'I-EUKARYOTE',\n",
       " 'B-CORONAVIRUS',\n",
       " 'I-CORONAVIRUS',\n",
       " 'B-WILDLIFE',\n",
       " 'I-WILDLIFE',\n",
       " 'B-EXPERIMENTAL_MODEL_OF_DISEASE',\n",
       " 'I-EXPERIMENTAL_MODEL_OF_DISEASE',\n",
       " 'B-NORP',\n",
       " 'I-NORP',\n",
       " 'B-QUANTITY',\n",
       " 'I-QUANTITY',\n",
       " 'B-LAW',\n",
       " 'I-LAW',\n",
       " 'B-CELL_OR_MOLECULAR_DYSFUNCTION',\n",
       " 'I-CELL_OR_MOLECULAR_DYSFUNCTION',\n",
       " 'B-PERCENT',\n",
       " 'I-PERCENT',\n",
       " 'B-ANATOMICAL_STRUCTURE',\n",
       " 'I-ANATOMICAL_STRUCTURE',\n",
       " 'B-VIRUS',\n",
       " 'I-VIRUS',\n",
       " 'B-WORK_OF_ART',\n",
       " 'I-WORK_OF_ART',\n",
       " 'B-LABORATORY_PROCEDURE',\n",
       " 'I-LABORATORY_PROCEDURE',\n",
       " 'B-GROUP_ATTRIBUTE',\n",
       " 'I-GROUP_ATTRIBUTE',\n",
       " 'B-DISEASE_OR_SYNDROME',\n",
       " 'I-DISEASE_OR_SYNDROME',\n",
       " 'B-MOLECULAR_FUNCTION',\n",
       " 'I-MOLECULAR_FUNCTION',\n",
       " 'B-ORG',\n",
       " 'I-ORG',\n",
       " 'B-PRODUCT',\n",
       " 'I-PRODUCT',\n",
       " 'B-CHEMICAL',\n",
       " 'I-CHEMICAL']"
      ]
     },
     "execution_count": 14,
     "metadata": {},
     "output_type": "execute_result"
    }
   ],
   "source": [
    "label_list = list(label_dict.keys())\n",
    "label_list"
   ]
  },
  {
   "cell_type": "code",
   "execution_count": 15,
   "metadata": {},
   "outputs": [
    {
     "name": "stderr",
     "output_type": "stream",
     "text": [
      "Casting the dataset: 100%|██████████| 3210155/3210155 [59:13:00<00:00, 15.06 examples/s]   \n"
     ]
    },
    {
     "data": {
      "text/plain": [
       "Dataset({\n",
       "    features: ['doc_id', 'sent_id', 'sent_tokens', 'labels'],\n",
       "    num_rows: 3210155\n",
       "})"
      ]
     },
     "execution_count": 15,
     "metadata": {},
     "output_type": "execute_result"
    }
   ],
   "source": [
    "from datasets import Dataset, Sequence, ClassLabel\n",
    "raw_cord_ner_dataset = Dataset.from_pandas(data)\n",
    "raw_cord_ner_dataset = raw_cord_ner_dataset.cast_column(\"labels\", Sequence(ClassLabel(names=label_list)))\n",
    "raw_cord_ner_dataset"
   ]
  },
  {
   "cell_type": "markdown",
   "metadata": {},
   "source": [
    "Get list of label names from dataset"
   ]
  },
  {
   "cell_type": "code",
   "execution_count": 19,
   "metadata": {},
   "outputs": [
    {
     "data": {
      "text/plain": [
       "Sequence(feature=ClassLabel(names=['O', 'B-CARDINAL', 'I-CARDINAL', 'B-ORGANISM', 'I-ORGANISM', 'B-CELL', 'I-CELL', 'B-BACTERIUM', 'I-BACTERIUM', 'B-LABORATORY_OR_TEST_RESULT', 'I-LABORATORY_OR_TEST_RESULT', 'B-CELL_COMPONENT', 'I-CELL_COMPONENT', 'B-PERSON', 'I-PERSON', 'B-MACHINE_ACTIVITY', 'I-MACHINE_ACTIVITY', 'B-SIGN_OR_SYMPTOM', 'I-SIGN_OR_SYMPTOM', 'B-BODY_SUBSTANCE', 'I-BODY_SUBSTANCE', 'B-TIME', 'I-TIME', 'B-SUBSTRATE', 'I-SUBSTRATE', 'B-CELL_FUNCTION', 'I-CELL_FUNCTION', 'B-ORDINAL', 'I-ORDINAL', 'B-HUMAN-CAUSED_PHENOMENON_OR_PROCESS', 'I-HUMAN-CAUSED_PHENOMENON_OR_PROCESS', 'B-EVOLUTION', 'I-EVOLUTION', 'B-IMMUNE_RESPONSE', 'I-IMMUNE_RESPONSE', 'B-EDUCATIONAL_ACTIVITY', 'I-EDUCATIONAL_ACTIVITY', 'B-FOOD', 'I-FOOD', 'B-LANGUAGE', 'I-LANGUAGE', 'B-GPE', 'I-GPE', 'B-BODY_PART_ORGAN_OR_ORGAN_COMPONENT', 'I-BODY_PART_ORGAN_OR_ORGAN_COMPONENT', 'B-SOCIAL_BEHAVIOR', 'I-SOCIAL_BEHAVIOR', 'B-EVENT', 'I-EVENT', 'B-TISSUE', 'I-TISSUE', 'B-FAC', 'I-FAC', 'B-MONEY', 'I-MONEY', 'B-MATERIAL', 'I-MATERIAL', 'B-DAILY_OR_RECREATIONAL_ACTIVITY', 'I-DAILY_OR_RECREATIONAL_ACTIVITY', 'B-ORGAN_OR_TISSUE_FUNCTION', 'I-ORGAN_OR_TISSUE_FUNCTION', 'B-GENE_OR_GENOME', 'I-GENE_OR_GENOME', 'B-DIAGNOSTIC_PROCEDURE', 'I-DIAGNOSTIC_PROCEDURE', 'B-THERAPEUTIC_OR_PREVENTIVE_PROCEDURE', 'I-THERAPEUTIC_OR_PREVENTIVE_PROCEDURE', 'B-VIRAL_PROTEIN', 'I-VIRAL_PROTEIN', 'B-INJURY_OR_POISONING', 'I-INJURY_OR_POISONING', 'B-GROUP', 'I-GROUP', 'B-LIVESTOCK', 'I-LIVESTOCK', 'B-DATE', 'I-DATE', 'B-ARCHAEON', 'I-ARCHAEON', 'B-RESEARCH_ACTIVITY', 'I-RESEARCH_ACTIVITY', 'B-INDIVIDUAL_BEHAVIOR', 'I-INDIVIDUAL_BEHAVIOR', 'B-PHYSICAL_SCIENCE', 'I-PHYSICAL_SCIENCE', 'B-LOC', 'I-LOC', 'B-GOVERNMENTAL_OR_REGULATORY_ACTIVITY', 'I-GOVERNMENTAL_OR_REGULATORY_ACTIVITY', 'B-EUKARYOTE', 'I-EUKARYOTE', 'B-CORONAVIRUS', 'I-CORONAVIRUS', 'B-WILDLIFE', 'I-WILDLIFE', 'B-EXPERIMENTAL_MODEL_OF_DISEASE', 'I-EXPERIMENTAL_MODEL_OF_DISEASE', 'B-NORP', 'I-NORP', 'B-QUANTITY', 'I-QUANTITY', 'B-LAW', 'I-LAW', 'B-CELL_OR_MOLECULAR_DYSFUNCTION', 'I-CELL_OR_MOLECULAR_DYSFUNCTION', 'B-PERCENT', 'I-PERCENT', 'B-ANATOMICAL_STRUCTURE', 'I-ANATOMICAL_STRUCTURE', 'B-VIRUS', 'I-VIRUS', 'B-WORK_OF_ART', 'I-WORK_OF_ART', 'B-LABORATORY_PROCEDURE', 'I-LABORATORY_PROCEDURE', 'B-GROUP_ATTRIBUTE', 'I-GROUP_ATTRIBUTE', 'B-DISEASE_OR_SYNDROME', 'I-DISEASE_OR_SYNDROME', 'B-MOLECULAR_FUNCTION', 'I-MOLECULAR_FUNCTION', 'B-ORG', 'I-ORG', 'B-PRODUCT', 'I-PRODUCT', 'B-CHEMICAL', 'I-CHEMICAL'], id=None), length=-1, id=None)"
      ]
     },
     "execution_count": 19,
     "metadata": {},
     "output_type": "execute_result"
    }
   ],
   "source": [
    "ner_feature = raw_cord_ner_dataset.features[\"labels\"]\n",
    "ner_feature"
   ]
  },
  {
   "cell_type": "code",
   "execution_count": 20,
   "metadata": {},
   "outputs": [
    {
     "data": {
      "text/plain": [
       "['O',\n",
       " 'B-CARDINAL',\n",
       " 'I-CARDINAL',\n",
       " 'B-ORGANISM',\n",
       " 'I-ORGANISM',\n",
       " 'B-CELL',\n",
       " 'I-CELL',\n",
       " 'B-BACTERIUM',\n",
       " 'I-BACTERIUM',\n",
       " 'B-LABORATORY_OR_TEST_RESULT',\n",
       " 'I-LABORATORY_OR_TEST_RESULT',\n",
       " 'B-CELL_COMPONENT',\n",
       " 'I-CELL_COMPONENT',\n",
       " 'B-PERSON',\n",
       " 'I-PERSON',\n",
       " 'B-MACHINE_ACTIVITY',\n",
       " 'I-MACHINE_ACTIVITY',\n",
       " 'B-SIGN_OR_SYMPTOM',\n",
       " 'I-SIGN_OR_SYMPTOM',\n",
       " 'B-BODY_SUBSTANCE',\n",
       " 'I-BODY_SUBSTANCE',\n",
       " 'B-TIME',\n",
       " 'I-TIME',\n",
       " 'B-SUBSTRATE',\n",
       " 'I-SUBSTRATE',\n",
       " 'B-CELL_FUNCTION',\n",
       " 'I-CELL_FUNCTION',\n",
       " 'B-ORDINAL',\n",
       " 'I-ORDINAL',\n",
       " 'B-HUMAN-CAUSED_PHENOMENON_OR_PROCESS',\n",
       " 'I-HUMAN-CAUSED_PHENOMENON_OR_PROCESS',\n",
       " 'B-EVOLUTION',\n",
       " 'I-EVOLUTION',\n",
       " 'B-IMMUNE_RESPONSE',\n",
       " 'I-IMMUNE_RESPONSE',\n",
       " 'B-EDUCATIONAL_ACTIVITY',\n",
       " 'I-EDUCATIONAL_ACTIVITY',\n",
       " 'B-FOOD',\n",
       " 'I-FOOD',\n",
       " 'B-LANGUAGE',\n",
       " 'I-LANGUAGE',\n",
       " 'B-GPE',\n",
       " 'I-GPE',\n",
       " 'B-BODY_PART_ORGAN_OR_ORGAN_COMPONENT',\n",
       " 'I-BODY_PART_ORGAN_OR_ORGAN_COMPONENT',\n",
       " 'B-SOCIAL_BEHAVIOR',\n",
       " 'I-SOCIAL_BEHAVIOR',\n",
       " 'B-EVENT',\n",
       " 'I-EVENT',\n",
       " 'B-TISSUE',\n",
       " 'I-TISSUE',\n",
       " 'B-FAC',\n",
       " 'I-FAC',\n",
       " 'B-MONEY',\n",
       " 'I-MONEY',\n",
       " 'B-MATERIAL',\n",
       " 'I-MATERIAL',\n",
       " 'B-DAILY_OR_RECREATIONAL_ACTIVITY',\n",
       " 'I-DAILY_OR_RECREATIONAL_ACTIVITY',\n",
       " 'B-ORGAN_OR_TISSUE_FUNCTION',\n",
       " 'I-ORGAN_OR_TISSUE_FUNCTION',\n",
       " 'B-GENE_OR_GENOME',\n",
       " 'I-GENE_OR_GENOME',\n",
       " 'B-DIAGNOSTIC_PROCEDURE',\n",
       " 'I-DIAGNOSTIC_PROCEDURE',\n",
       " 'B-THERAPEUTIC_OR_PREVENTIVE_PROCEDURE',\n",
       " 'I-THERAPEUTIC_OR_PREVENTIVE_PROCEDURE',\n",
       " 'B-VIRAL_PROTEIN',\n",
       " 'I-VIRAL_PROTEIN',\n",
       " 'B-INJURY_OR_POISONING',\n",
       " 'I-INJURY_OR_POISONING',\n",
       " 'B-GROUP',\n",
       " 'I-GROUP',\n",
       " 'B-LIVESTOCK',\n",
       " 'I-LIVESTOCK',\n",
       " 'B-DATE',\n",
       " 'I-DATE',\n",
       " 'B-ARCHAEON',\n",
       " 'I-ARCHAEON',\n",
       " 'B-RESEARCH_ACTIVITY',\n",
       " 'I-RESEARCH_ACTIVITY',\n",
       " 'B-INDIVIDUAL_BEHAVIOR',\n",
       " 'I-INDIVIDUAL_BEHAVIOR',\n",
       " 'B-PHYSICAL_SCIENCE',\n",
       " 'I-PHYSICAL_SCIENCE',\n",
       " 'B-LOC',\n",
       " 'I-LOC',\n",
       " 'B-GOVERNMENTAL_OR_REGULATORY_ACTIVITY',\n",
       " 'I-GOVERNMENTAL_OR_REGULATORY_ACTIVITY',\n",
       " 'B-EUKARYOTE',\n",
       " 'I-EUKARYOTE',\n",
       " 'B-CORONAVIRUS',\n",
       " 'I-CORONAVIRUS',\n",
       " 'B-WILDLIFE',\n",
       " 'I-WILDLIFE',\n",
       " 'B-EXPERIMENTAL_MODEL_OF_DISEASE',\n",
       " 'I-EXPERIMENTAL_MODEL_OF_DISEASE',\n",
       " 'B-NORP',\n",
       " 'I-NORP',\n",
       " 'B-QUANTITY',\n",
       " 'I-QUANTITY',\n",
       " 'B-LAW',\n",
       " 'I-LAW',\n",
       " 'B-CELL_OR_MOLECULAR_DYSFUNCTION',\n",
       " 'I-CELL_OR_MOLECULAR_DYSFUNCTION',\n",
       " 'B-PERCENT',\n",
       " 'I-PERCENT',\n",
       " 'B-ANATOMICAL_STRUCTURE',\n",
       " 'I-ANATOMICAL_STRUCTURE',\n",
       " 'B-VIRUS',\n",
       " 'I-VIRUS',\n",
       " 'B-WORK_OF_ART',\n",
       " 'I-WORK_OF_ART',\n",
       " 'B-LABORATORY_PROCEDURE',\n",
       " 'I-LABORATORY_PROCEDURE',\n",
       " 'B-GROUP_ATTRIBUTE',\n",
       " 'I-GROUP_ATTRIBUTE',\n",
       " 'B-DISEASE_OR_SYNDROME',\n",
       " 'I-DISEASE_OR_SYNDROME',\n",
       " 'B-MOLECULAR_FUNCTION',\n",
       " 'I-MOLECULAR_FUNCTION',\n",
       " 'B-ORG',\n",
       " 'I-ORG',\n",
       " 'B-PRODUCT',\n",
       " 'I-PRODUCT',\n",
       " 'B-CHEMICAL',\n",
       " 'I-CHEMICAL']"
      ]
     },
     "execution_count": 20,
     "metadata": {},
     "output_type": "execute_result"
    }
   ],
   "source": [
    "label_names = ner_feature.feature.names\n",
    "label_names"
   ]
  },
  {
   "cell_type": "code",
   "execution_count": 22,
   "metadata": {},
   "outputs": [
    {
     "name": "stdout",
     "output_type": "stream",
     "text": [
      "angiotensin_converting_enzyme 2                ( ace2             ) as a sars_cov_2    receptor   molecular_mechanisms and potential therapeutic_target sars_cov_2    has been sequenced 3 . \n",
      "B-GENE_OR_GENOME              I-GENE_OR_GENOME O B-GENE_OR_GENOME O O  O B-CORONAVIRUS B-CHEMICAL O                    O   O         O                  B-CORONAVIRUS O   O    O         O O \n"
     ]
    }
   ],
   "source": [
    "words = raw_cord_ner_dataset[0][\"sent_tokens\"]\n",
    "labels = raw_cord_ner_dataset[0][\"labels\"]\n",
    "line1 = \"\"\n",
    "line2 = \"\"\n",
    "for word, label in zip(words, labels):\n",
    "    full_label = label_names[label]\n",
    "    max_length = max(len(word), len(full_label))\n",
    "    line1 += word + \" \" * (max_length - len(word) + 1)\n",
    "    line2 += full_label + \" \" * (max_length - len(full_label) + 1)\n",
    "\n",
    "print(line1)\n",
    "print(line2)"
   ]
  },
  {
   "cell_type": "markdown",
   "metadata": {},
   "source": [
    "### Dataset split into training, validation, and testing  "
   ]
  },
  {
   "cell_type": "code",
   "execution_count": 23,
   "metadata": {},
   "outputs": [
    {
     "data": {
      "text/plain": [
       "DatasetDict({\n",
       "    train: Dataset({\n",
       "        features: ['doc_id', 'sent_id', 'sent_tokens', 'labels'],\n",
       "        num_rows: 2568124\n",
       "    })\n",
       "    test: Dataset({\n",
       "        features: ['doc_id', 'sent_id', 'sent_tokens', 'labels'],\n",
       "        num_rows: 321016\n",
       "    })\n",
       "    validation: Dataset({\n",
       "        features: ['doc_id', 'sent_id', 'sent_tokens', 'labels'],\n",
       "        num_rows: 321015\n",
       "    })\n",
       "})"
      ]
     },
     "execution_count": 23,
     "metadata": {},
     "output_type": "execute_result"
    }
   ],
   "source": [
    "cord_ner_dataset = raw_cord_ner_dataset.train_test_split(train_size=0.8, seed=1980)\n",
    "temp_cord_ner_dataset = cord_ner_dataset['test'].train_test_split(train_size=0.5, seed=1980)\n",
    "cord_ner_dataset['validation'] = temp_cord_ner_dataset['train']\n",
    "cord_ner_dataset['test'] = temp_cord_ner_dataset['test']\n",
    "cord_ner_dataset"
   ]
  },
  {
   "cell_type": "code",
   "execution_count": 29,
   "metadata": {},
   "outputs": [
    {
     "name": "stdout",
     "output_type": "stream",
     "text": [
      "Number of label names in dataset train split: 127\n",
      "Number of label names in dataset validation split: 127\n",
      "Number of label names in dataset test split: 127\n"
     ]
    }
   ],
   "source": [
    "for split in ['train','validation','test']:  \n",
    "    ner_feature = cord_ner_dataset[split].features[\"labels\"]\n",
    "    label_names = ner_feature.feature.names\n",
    "    print('Number of label names in dataset {} split:'.format(split), len(label_names))"
   ]
  },
  {
   "cell_type": "markdown",
   "metadata": {},
   "source": [
    "### Save to disk"
   ]
  },
  {
   "cell_type": "code",
   "execution_count": 30,
   "metadata": {},
   "outputs": [
    {
     "name": "stderr",
     "output_type": "stream",
     "text": [
      "Saving the dataset (3/3 shards): 100%|██████████| 2568124/2568124 [00:24<00:00, 105905.90 examples/s]\n",
      "Saving the dataset (1/1 shards): 100%|██████████| 321016/321016 [00:02<00:00, 108877.90 examples/s]\n",
      "Saving the dataset (1/1 shards): 100%|██████████| 321015/321015 [00:02<00:00, 112307.92 examples/s]\n"
     ]
    }
   ],
   "source": [
    "cord_ner_dataset.save_to_disk('./data/cord-ner')"
   ]
  }
 ],
 "metadata": {
  "kernelspec": {
   "display_name": ".venv",
   "language": "python",
   "name": "python3"
  },
  "language_info": {
   "codemirror_mode": {
    "name": "ipython",
    "version": 3
   },
   "file_extension": ".py",
   "mimetype": "text/x-python",
   "name": "python",
   "nbconvert_exporter": "python",
   "pygments_lexer": "ipython3",
   "version": "3.11.6"
  }
 },
 "nbformat": 4,
 "nbformat_minor": 2
}
